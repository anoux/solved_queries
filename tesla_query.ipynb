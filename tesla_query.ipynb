{
 "cells": [
  {
   "cell_type": "code",
   "execution_count": 1,
   "id": "991bdddb",
   "metadata": {},
   "outputs": [],
   "source": [
    "# Tesla Models query\n",
    "\n",
    "# Tesla just provided their quarterly sales for their major vehicles.\n",
    "\n",
    "# Determine which Tesla Model has made the most profit.\n",
    "\n",
    "# Include all columns with the \"profit\" column at the end."
   ]
  },
  {
   "cell_type": "code",
   "execution_count": 4,
   "id": "88d28666",
   "metadata": {},
   "outputs": [
    {
     "name": "stdout",
     "output_type": "stream",
     "text": [
      "+-------------+-----------+-----------+-----------------+\n",
      "| tesla_model | car_price | cars_sold | production_cost |\n",
      "+-------------+-----------+-----------+-----------------+\n",
      "|   Model 3   |   46990   |   156357  |      21000      |\n",
      "|   Model S   |   104990  |   23464   |      43000      |\n",
      "|   Model X   |   120990  |   19542   |      48000      |\n",
      "|   Model Y   |   65990   |   191451  |      35000      |\n",
      "+-------------+-----------+-----------+-----------------+\n"
     ]
    }
   ],
   "source": [
    "from prettytable import PrettyTable \n",
    "import pandas as pd \n",
    "# Column Names \n",
    "myTable = PrettyTable([\"tesla_model\", \"car_price\", \"cars_sold\", \"production_cost\"]) \n",
    " \n",
    "# Rows \n",
    "myTable.add_row([\"Model 3\", 46990, 156357, 21000]) \n",
    "myTable.add_row([\"Model S\", 104990, 23464, 43000]) \n",
    "myTable.add_row([\"Model X\", 120990, 19542, 48000]) \n",
    "myTable.add_row([\"Model Y\", 65990, 191451, 35000])\n",
    " \n",
    "print(myTable)"
   ]
  },
  {
   "cell_type": "code",
   "execution_count": 5,
   "id": "b641bc25",
   "metadata": {},
   "outputs": [
    {
     "name": "stdout",
     "output_type": "stream",
     "text": [
      "  tesla_model car_price cars_sold production_cost      profit\n",
      "0     Model Y     65990    191451           35000  5933066490\n"
     ]
    }
   ],
   "source": [
    "# Convert myTable to pandas DataFrame\n",
    "\n",
    "df = pd.DataFrame(myTable.rows, columns=myTable.field_names)\n",
    "\n",
    "\n",
    "# Calculate and assign profit as new column\n",
    "\n",
    "df = df.assign(profit = df.car_price*df.cars_sold-df.production_cost*df.cars_sold)\n",
    "\n",
    "\n",
    "# Find row with maximum profit\n",
    "\n",
    "max_profit_row = df.loc[df['profit'].idxmax()]\n",
    "\n",
    "\n",
    "# Convert max profit row to DataFrame and transpose\n",
    "\n",
    "max_profit_df = pd.DataFrame(max_profit_row).transpose()\n",
    "\n",
    "\n",
    "# Solution\n",
    "\n",
    "print(max_profit_df.reset_index(drop = True))"
   ]
  },
  {
   "cell_type": "code",
   "execution_count": null,
   "id": "e833dbf9",
   "metadata": {},
   "outputs": [],
   "source": []
  }
 ],
 "metadata": {
  "kernelspec": {
   "display_name": "Python 3 (ipykernel)",
   "language": "python",
   "name": "python3"
  },
  "language_info": {
   "codemirror_mode": {
    "name": "ipython",
    "version": 3
   },
   "file_extension": ".py",
   "mimetype": "text/x-python",
   "name": "python",
   "nbconvert_exporter": "python",
   "pygments_lexer": "ipython3",
   "version": "3.11.7"
  }
 },
 "nbformat": 4,
 "nbformat_minor": 5
}
