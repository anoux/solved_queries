{
 "cells": [
  {
   "cell_type": "code",
   "execution_count": 3,
   "id": "991bdddb",
   "metadata": {},
   "outputs": [],
   "source": [
    "# A Computer store is offering a 25% discount for all new customers \n",
    "# over the age of 65 or customers that spend more than $200 \n",
    "# on their first purchase.\n",
    "\n",
    "# The owner wants to know how many customers received that discount\n",
    "# since they started the promotion.\n",
    "\n",
    "# Write a query to see how many customers received that discount."
   ]
  },
  {
   "cell_type": "code",
   "execution_count": 4,
   "id": "88d28666",
   "metadata": {},
   "outputs": [
    {
     "name": "stdout",
     "output_type": "stream",
     "text": [
      "+-------------+-----+----------------+\n",
      "| customer_id | age | total_purchase |\n",
      "+-------------+-----+----------------+\n",
      "|     1001    |  72 |      1053      |\n",
      "|     1002    |  86 |      826       |\n",
      "|     1003    |  37 |      713       |\n",
      "|     1004    |  61 |      923       |\n",
      "|     1005    |  50 |       90       |\n",
      "|     1006    |  45 |      1057      |\n",
      "|     1007    |  39 |      673       |\n",
      "|     1008    |  69 |      952       |\n",
      "|     1009    |  29 |      874       |\n",
      "|     1010    |  23 |      524       |\n",
      "|     1011    |  81 |      496       |\n",
      "|     1012    |  62 |      384       |\n",
      "|     1013    |  80 |      1059      |\n",
      "|     1014    |  99 |      1071      |\n",
      "|     1015    |  75 |      1015      |\n",
      "+-------------+-----+----------------+\n"
     ]
    }
   ],
   "source": [
    "from prettytable import PrettyTable \n",
    "import pandas as pd\n",
    " \n",
    "# Column Names \n",
    "myTable = PrettyTable([\"customer_id\", \"age\", \"total_purchase\"]) \n",
    " \n",
    "# Rows \n",
    "myTable.add_row([1001, 72, 1053]) \n",
    "myTable.add_row([1002, 86, 826]) \n",
    "myTable.add_row([1003, 37, 713]) \n",
    "myTable.add_row([1004, 61, 923])\n",
    "myTable.add_row([1005, 50, 90]) \n",
    "myTable.add_row([1006, 45, 1057]) \n",
    "myTable.add_row([1007, 39, 673]) \n",
    "myTable.add_row([1008, 69, 952])\n",
    "myTable.add_row([1009, 29, 874]) \n",
    "myTable.add_row([1010, 23, 524]) \n",
    "myTable.add_row([1011, 81, 496]) \n",
    "myTable.add_row([1012, 62, 384])\n",
    "myTable.add_row([1013, 80, 1059]) \n",
    "myTable.add_row([1014, 99, 1071]) \n",
    "myTable.add_row([1015, 75, 1015]) \n",
    "print(myTable)"
   ]
  },
  {
   "cell_type": "code",
   "execution_count": 34,
   "id": "b641bc25",
   "metadata": {},
   "outputs": [
    {
     "data": {
      "text/plain": [
       "14"
      ]
     },
     "execution_count": 34,
     "metadata": {},
     "output_type": "execute_result"
    }
   ],
   "source": [
    "# Convert myTable to pandas DataFrame\n",
    "\n",
    "df = pd.DataFrame(myTable.rows, columns=myTable.field_names)\n",
    "\n",
    "\n",
    "# Find rows that meet one of both conditions \n",
    "\n",
    "benefited_customers_df = df[(df[\"age\"] > 65) | (df[\"total_purchase\"] > 200)]\n",
    "\n",
    "\n",
    "# Solution\n",
    "\n",
    "benefited_customers_df[\"customer_id\"].count()"
   ]
  },
  {
   "cell_type": "code",
   "execution_count": null,
   "id": "0c6a99b8",
   "metadata": {},
   "outputs": [],
   "source": []
  }
 ],
 "metadata": {
  "kernelspec": {
   "display_name": "Python 3 (ipykernel)",
   "language": "python",
   "name": "python3"
  },
  "language_info": {
   "codemirror_mode": {
    "name": "ipython",
    "version": 3
   },
   "file_extension": ".py",
   "mimetype": "text/x-python",
   "name": "python",
   "nbconvert_exporter": "python",
   "pygments_lexer": "ipython3",
   "version": "3.11.7"
  }
 },
 "nbformat": 4,
 "nbformat_minor": 5
}
