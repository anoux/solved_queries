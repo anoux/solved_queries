{
 "cells": [
  {
   "cell_type": "code",
   "execution_count": 14,
   "id": "991bdddb",
   "metadata": {},
   "outputs": [],
   "source": [
    "# Heart Attack Risk query\n",
    "\n",
    "# Dr. Obrien has seen an uptick in heart attacks for his patients over the past few months.\n",
    "# He has been noticing some trends across his patients and wants to get ahead of things by reaching out to current\n",
    "# patients who are at a high risk of a heart attack.\n",
    "\n",
    "# We need to identify which clients he needs to reach out to and provide that information to Dr. Obrien.\n",
    "\n",
    "# If a patient is over the age of 50, cholesterol level of 240 or over, and weight 200 or greater, \n",
    "# then they are at high risk of having a heart attack.\n",
    "\n",
    "# Write a query to retrieve these patients. Include all columns in your output.\n",
    "\n",
    "# As Cholesterol level is the largest indicator, order the output by Cholesterol from Highest to Lowest\n",
    "#so he can reach out to them first."
   ]
  },
  {
   "cell_type": "code",
   "execution_count": 15,
   "id": "88d28666",
   "metadata": {},
   "outputs": [
    {
     "name": "stdout",
     "output_type": "stream",
     "text": [
      "+------------+-----+-------------+--------+\n",
      "| patient_id | age | cholesterol | weight |\n",
      "+------------+-----+-------------+--------+\n",
      "|    1001    |  52 |     373     |  267   |\n",
      "|    1002    |  93 |     235     |  164   |\n",
      "|    1003    |  77 |     324     |  211   |\n",
      "|    1004    |  65 |     245     |  216   |\n",
      "|    1005    |  51 |     218     |  258   |\n",
      "|    1006    |  33 |     195     |  246   |\n",
      "|    1007    |  34 |     307     |  239   |\n",
      "|    1008    |  49 |     199     |  213   |\n",
      "|    1009    |  61 |     266     |  244   |\n",
      "|    1010    |  61 |     257     |  192   |\n",
      "|    1011    |  63 |     140     |  187   |\n",
      "|    1012    |  31 |     398     |  175   |\n",
      "|    1013    |  78 |     361     |  184   |\n",
      "|    1014    |  72 |     365     |  170   |\n",
      "|    1015    |  82 |     282     |  269   |\n",
      "+------------+-----+-------------+--------+\n"
     ]
    }
   ],
   "source": [
    "from prettytable import PrettyTable \n",
    "import pandas as pd\n",
    " \n",
    "# Column Names \n",
    "myTable = PrettyTable([\"patient_id\", \"age\", \"cholesterol\", \"weight\"]) \n",
    " \n",
    "# Rows \n",
    "myTable.add_row([1001, 52, 373, 267]) \n",
    "myTable.add_row([1002, 93, 235, 164]) \n",
    "myTable.add_row([1003, 77, 324, 211]) \n",
    "myTable.add_row([1004, 65, 245, 216])\n",
    "myTable.add_row([1005, 51, 218, 258]) \n",
    "myTable.add_row([1006, 33, 195, 246]) \n",
    "myTable.add_row([1007, 34, 307, 239]) \n",
    "myTable.add_row([1008, 49, 199, 213])\n",
    "myTable.add_row([1009, 61, 266, 244]) \n",
    "myTable.add_row([1010, 61, 257, 192]) \n",
    "myTable.add_row([1011, 63, 140, 187]) \n",
    "myTable.add_row([1012, 31, 398, 175])\n",
    "myTable.add_row([1013, 78, 361, 184]) \n",
    "myTable.add_row([1014, 72, 365, 170]) \n",
    "myTable.add_row([1015, 82, 282, 269]) \n",
    "print(myTable)"
   ]
  },
  {
   "cell_type": "code",
   "execution_count": 28,
   "id": "b641bc25",
   "metadata": {},
   "outputs": [
    {
     "name": "stdout",
     "output_type": "stream",
     "text": [
      "   patient_id  age  cholesterol  weight\n",
      "0        1001   52          373     267\n",
      "1        1003   77          324     211\n",
      "2        1015   82          282     269\n",
      "3        1009   61          266     244\n",
      "4        1004   65          245     216\n"
     ]
    }
   ],
   "source": [
    "# Convert myTable to pandas DataFrame\n",
    "\n",
    "df = pd.DataFrame(myTable.rows, columns=myTable.field_names)\n",
    "\n",
    "\n",
    "# Find rows that meet the requirements (e.g. patients at high risk of having a heart attack)\n",
    "# and convert them to DataFrame \n",
    "\n",
    "risk_patients_df = pd.DataFrame(df.loc[(df[\"age\"] > 50) & (df[\"cholesterol\"] >= 240) & (df[\"weight\"] >= 200)]).sort_values(by= 'cholesterol', ascending = False)\n",
    "\n",
    "\n",
    "# Solution \n",
    "\n",
    "print(risk_patients_df.reset_index(drop = True))"
   ]
  },
  {
   "cell_type": "code",
   "execution_count": null,
   "id": "0c6a99b8",
   "metadata": {},
   "outputs": [],
   "source": []
  }
 ],
 "metadata": {
  "kernelspec": {
   "display_name": "Python 3 (ipykernel)",
   "language": "python",
   "name": "python3"
  },
  "language_info": {
   "codemirror_mode": {
    "name": "ipython",
    "version": 3
   },
   "file_extension": ".py",
   "mimetype": "text/x-python",
   "name": "python",
   "nbconvert_exporter": "python",
   "pygments_lexer": "ipython3",
   "version": "3.11.7"
  }
 },
 "nbformat": 4,
 "nbformat_minor": 5
}
