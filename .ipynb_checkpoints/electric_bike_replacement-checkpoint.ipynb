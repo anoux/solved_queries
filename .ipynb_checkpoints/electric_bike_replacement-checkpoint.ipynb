{
 "cells": [
  {
   "cell_type": "code",
   "execution_count": 25,
   "id": "991bdddb",
   "metadata": {},
   "outputs": [],
   "source": [
    "# Electric Bike Replacement\n",
    "\n",
    "# After about 10,000 miles, Electric bike batteries begin to degrade and need to be replaced.\n",
    "\n",
    "# Write a query to determine the amount of bikes that currently need to be replaced.\n"
   ]
  },
  {
   "cell_type": "code",
   "execution_count": 26,
   "id": "88d28666",
   "metadata": {},
   "outputs": [
    {
     "name": "stdout",
     "output_type": "stream",
     "text": [
      "+---------+-------+\n",
      "| bike_id | miles |\n",
      "+---------+-------+\n",
      "|  120320 | 15842 |\n",
      "|  120321 | 15027 |\n",
      "|  120322 |  6657 |\n",
      "|  120323 | 22431 |\n",
      "|  120324 | 14427 |\n",
      "|  120325 |  6868 |\n",
      "|  120326 |  9341 |\n",
      "|  120327 | 17345 |\n",
      "|  120328 | 14668 |\n",
      "|  120329 | 11322 |\n",
      "|  120330 | 22363 |\n",
      "|  120331 |  4939 |\n",
      "|  120332 |  915  |\n",
      "|  120333 |  6380 |\n",
      "+---------+-------+\n"
     ]
    }
   ],
   "source": [
    "from prettytable import PrettyTable \n",
    "import pandas as pd\n",
    " \n",
    "# Column Names \n",
    "myTable = PrettyTable([\"bike_id\", \"miles\"]) \n",
    " \n",
    "# Rows \n",
    "myTable.add_row([120320, 15842]) \n",
    "myTable.add_row([120321, 15027]) \n",
    "myTable.add_row([120322, 6657]) \n",
    "myTable.add_row([120323, 22431])\n",
    "myTable.add_row([120324, 14427]) \n",
    "myTable.add_row([120325, 6868]) \n",
    "myTable.add_row([120326, 9341]) \n",
    "myTable.add_row([120327, 17345])\n",
    "myTable.add_row([120328, 14668]) \n",
    "myTable.add_row([120329, 11322]) \n",
    "myTable.add_row([120330, 22363]) \n",
    "myTable.add_row([120331, 4939])\n",
    "myTable.add_row([120332, 915]) \n",
    "myTable.add_row([120333, 6380])\n",
    "\n",
    "print(myTable)"
   ]
  },
  {
   "cell_type": "code",
   "execution_count": 32,
   "id": "b641bc25",
   "metadata": {},
   "outputs": [
    {
     "data": {
      "text/plain": [
       "8"
      ]
     },
     "execution_count": 32,
     "metadata": {},
     "output_type": "execute_result"
    }
   ],
   "source": [
    "# Convert myTable to pandas DataFrame\n",
    "\n",
    "all_bikes_df = pd.DataFrame(myTable.rows, columns=myTable.field_names)\n",
    "\n",
    "\n",
    "# Find rows that meet the condition\n",
    "\n",
    "bikes_to_replace_df = pd.DataFrame(all_bikes_df.loc[df[\"miles\"] > 10000])\n",
    "\n",
    "\n",
    "# Count rows that meet the condition\n",
    "\n",
    "bikes_to_replace_df[\"bike_id\"].count()"
   ]
  },
  {
   "cell_type": "code",
   "execution_count": null,
   "id": "0c6a99b8",
   "metadata": {},
   "outputs": [],
   "source": []
  }
 ],
 "metadata": {
  "kernelspec": {
   "display_name": "Python 3 (ipykernel)",
   "language": "python",
   "name": "python3"
  },
  "language_info": {
   "codemirror_mode": {
    "name": "ipython",
    "version": 3
   },
   "file_extension": ".py",
   "mimetype": "text/x-python",
   "name": "python",
   "nbconvert_exporter": "python",
   "pygments_lexer": "ipython3",
   "version": "3.11.7"
  }
 },
 "nbformat": 4,
 "nbformat_minor": 5
}
